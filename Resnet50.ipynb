{
  "cells": [
    {
      "cell_type": "code",
      "execution_count": 34,
      "metadata": {
        "id": "GtuU6-JmCW81"
      },
      "outputs": [],
      "source": [
        "import os\n",
        "import pandas as pd\n",
        "import numpy as np\n",
        "from sklearn.model_selection import train_test_split\n",
        "from sklearn.preprocessing import LabelEncoder\n",
        "from sklearn.utils import shuffle\n",
        "import matplotlib.pyplot as plt\n",
        "from tensorflow.keras.applications.mobilenet import preprocess_input"
      ]
    },
    {
      "cell_type": "code",
      "execution_count": 35,
      "metadata": {
        "id": "2DnaGgrJCW84"
      },
      "outputs": [],
      "source": [
        "Train_data = 'C:/Users/gaura/Music/Ashwini Mam Project/pythonfiles/Resnet50/data/'\n",
        "Test_data = 'C:/Users/gaura/Music/Ashwini Mam Project/pythonfiles/Resnet50/test/'\n",
        "\n",
        "train_data_df = pd.DataFrame(columns=['Image_path','Label'])\n",
        "test_data_df = pd.DataFrame(columns=['Image_path'])"
      ]
    },
    {
      "cell_type": "code",
      "execution_count": 36,
      "metadata": {
        "id": "PK0pI3FMCW85"
      },
      "outputs": [],
      "source": [
        "def load_dataframe(DF,path):\n",
        "    labels_files = os.listdir(path)\n",
        "    image_paths = []\n",
        "    labels = []\n",
        "    for file in labels_files:\n",
        "        path_file = path + file +'\\\\'\n",
        "        list_files = os.listdir(path_file)\n",
        "        for image_path in list_files:\n",
        "            image_paths.append(path_file + image_path)\n",
        "            labels.append(file)\n",
        "    DF['Image_path'] = image_paths\n",
        "    DF['Label'] = labels\n",
        "    return(DF)"
      ]
    },
    {
      "cell_type": "code",
      "execution_count": 37,
      "metadata": {
        "id": "9fz61Y6XCW86"
      },
      "outputs": [],
      "source": [
        "train_data_df = load_dataframe(train_data_df,Train_data)\n",
        "test_data_df = load_dataframe(test_data_df,Test_data)\n",
        "\n",
        "train_data_df = shuffle(train_data_df)\n",
        "test_data_df = shuffle(test_data_df)\n",
        "\n",
        "encoder = LabelEncoder()\n",
        "train_data_df['Label'] = encoder.fit_transform(train_data_df['Label'])\n",
        "test_data_df['Label'] = encoder.fit_transform(test_data_df['Label'])"
      ]
    },
    {
      "cell_type": "code",
      "execution_count": 38,
      "metadata": {
        "id": "w7QZ-UZyCW87",
        "outputId": "00655f05-3dc1-417d-f3d3-405432d28ed6"
      },
      "outputs": [
        {
          "data": {
            "image/png": "[encoded data removed]",
            "text/plain": [
              "<Figure size 432x288 with 1 Axes>"
            ]
          },
          "metadata": {
            "needs_background": "light"
          },
          "output_type": "display_data"
        },
        {
          "data": {
            "text/plain": [
              "(224, 224, 3)"
            ]
          },
          "execution_count": 38,
          "metadata": {},
          "output_type": "execute_result"
        }
      ],
      "source": [
        "import cv2\n",
        "def load_image(path):\n",
        "    img = cv2.imread(path,1)\n",
        "    # OpenCV loads images with color channels\n",
        "    # in BGR order. So we need to reverse them\n",
        "    img = cv2.resize(img,(224,224))\n",
        "    return img\n",
        "\n",
        "img = load_image(train_data_df['Image_path'][0])\n",
        "fig,ax = plt.subplots(1)\n",
        "ax.imshow(img)\n",
        "plt.show()\n",
        "\n",
        "img.shape"
      ]
    },
    {
      "cell_type": "code",
      "execution_count": 39,
      "metadata": {
        "id": "Buoqet3NCW88"
      },
      "outputs": [],
      "source": [
        "x_train = []\n",
        "for image_path in train_data_df['Image_path'] :\n",
        "    img = load_image(image_path)\n",
        "    img = preprocess_input(np.array(img, dtype=np.float32))\n",
        "    x_train.append(img)\n",
        "x_train = np.array(x_train)"
      ]
    },
    {
      "cell_type": "code",
      "execution_count": 40,
      "metadata": {
        "id": "kfD7WfibCW89"
      },
      "outputs": [],
      "source": [
        "x_test = []\n",
        "for image_path in test_data_df['Image_path'] :\n",
        "    img = load_image(image_path)\n",
        "    img = preprocess_input(np.array(img, dtype=np.float32))\n",
        "    x_test.append(img)\n",
        "x_test = np.array(x_test)"
      ]
    },
    {
      "cell_type": "code",
      "execution_count": 41,
      "metadata": {
        "id": "skCMa_faCW8-"
      },
      "outputs": [],
      "source": [
        "y_train = train_data_df['Label'].to_list()\n",
        "y_test = test_data_df['Label'].to_list()"
      ]
    },
    {
      "cell_type": "code",
      "execution_count": 42,
      "metadata": {
        "id": "WoRjL943CW8-"
      },
      "outputs": [],
      "source": [
        "from tensorflow.keras.utils import to_categorical\n",
        "\n",
        "y_train = to_categorical(y_train,num_classes=3)\n",
        "y_train = y_train.reshape(y_train.shape[0],1,1,y_train.shape[1])\n",
        "y_test = to_categorical(y_test,num_classes=3)\n",
        "y_test = y_test.reshape(y_test.shape[0],1,1,y_test.shape[1])"
      ]
    },
    {
      "cell_type": "code",
      "execution_count": 43,
      "metadata": {
        "id": "uTIaH130CW9A"
      },
      "outputs": [],
      "source": [
        "from tensorflow.keras.applications.resnet50 import ResNet50\n",
        "from tensorflow.keras.layers import Reshape, UpSampling2D, Concatenate, Conv2D,Conv2DTranspose,Dropout,Dense,MaxPool2D\n",
        "from tensorflow.keras.models import Model\n",
        "\n",
        "def create_model(trainable=True):\n",
        "    model = ResNet50(input_shape=(224, 224, 3), include_top=False, weights=\"imagenet\")\n",
        "\n",
        "    for layer in model.layers:\n",
        "        layer.trainable = trainable    \n",
        "\n",
        "    x =  model.output\n",
        "    x = Conv2D(1024, kernel_size=3,padding ='same',activation=\"relu\")(x)\n",
        "    x = MaxPool2D()(x)\n",
        "    x = Conv2D(512, kernel_size=3,padding ='same',activation=\"relu\")(x)\n",
        "    x = MaxPool2D()(x)\n",
        "    x = Dense(1000,activation = 'relu')(x)\n",
        "    x = Dense(3,activation = 'softmax')(x)\n",
        "    return(Model(inputs = model.input,outputs = x))\n",
        "\n",
        "model = create_model(False)"
      ]
    },
    {
      "cell_type": "code",
      "execution_count": 44,
      "metadata": {
        "id": "iSgE7fm7CW9B"
      },
      "outputs": [],
      "source": [
        "import tensorflow\n",
        "Optimizer = tensorflow.keras.optimizers.Adam(learning_rate = 1e-5,beta_1 = 0.9,decay = 1e-5)\n",
        "\n",
        "model.compile(optimizer= Optimizer,loss= 'categorical_crossentropy',metrics= 'accuracy')"
      ]
    },
    {
      "cell_type": "code",
      "execution_count": 47,
      "metadata": {
        "id": "90ivJkE9CW9B"
      },
      "outputs": [],
      "source": [
        "# # Model Checkpoint\n",
        "# ModelCheckpoint = tensorflow.keras.callbacks.ModelCheckpoint(\"pneu_1-{val_loss:.3f}.h5\",monitor='val_loss',save_best_only= True,save_weights_only=True)\n",
        "\n",
        "# ReduceLOR =  tensorflow.keras.callbacks.ReduceLROnPlateau(monitor='val_loss',factor =0.1,patience=2,min_lr=1e-5)"
      ]
    },
    {
      "cell_type": "code",
      "execution_count": 48,
      "metadata": {
        "id": "2ahx4bFACW9B",
        "outputId": "d60d0d90-5865-4e7b-f616-dc632fcebcff"
      },
      "outputs": [
        {
          "name": "stdout",
          "output_type": "stream",
          "text": [
            "Epoch 1/10\n",
            "2093/2093 [==============================] - 963s 460ms/step - loss: 0.5776 - accuracy: 0.7582 - val_loss: 0.1650 - val_accuracy: 0.9524\n",
            "Epoch 2/10\n",
            "2093/2093 [==============================] - 906s 433ms/step - loss: 0.3262 - accuracy: 0.8763 - val_loss: 0.0817 - val_accuracy: 0.9524\n",
            "Epoch 3/10\n",
            "2093/2093 [==============================] - 754s 360ms/step - loss: 0.2422 - accuracy: 0.9078 - val_loss: 0.0584 - val_accuracy: 1.0000\n",
            "Epoch 4/10\n",
            "2093/2093 [==============================] - 467s 223ms/step - loss: 0.1729 - accuracy: 0.9393 - val_loss: 0.0336 - val_accuracy: 1.0000\n",
            "Epoch 5/10\n",
            "2093/2093 [==============================] - 467s 223ms/step - loss: 0.1308 - accuracy: 0.9513 - val_loss: 0.0340 - val_accuracy: 1.0000\n",
            "Epoch 6/10\n",
            "2093/2093 [==============================] - 544s 260ms/step - loss: 0.1001 - accuracy: 0.9627 - val_loss: 0.0861 - val_accuracy: 0.9524\n",
            "Epoch 7/10\n",
            "2093/2093 [==============================] - 525s 251ms/step - loss: 0.0945 - accuracy: 0.9656 - val_loss: 0.0921 - val_accuracy: 0.9524\n",
            "Epoch 8/10\n",
            "2093/2093 [==============================] - 508s 243ms/step - loss: 0.0812 - accuracy: 0.9675 - val_loss: 0.1018 - val_accuracy: 0.9524\n",
            "Epoch 9/10\n",
            "2093/2093 [==============================] - 505s 241ms/step - loss: 0.0676 - accuracy: 0.9737 - val_loss: 0.0236 - val_accuracy: 1.0000\n",
            "Epoch 10/10\n",
            "2093/2093 [==============================] - 510s 244ms/step - loss: 0.0687 - accuracy: 0.9713 - val_loss: 0.0284 - val_accuracy: 1.0000\n"
          ]
        }
      ],
      "source": [
        "# model.fit(x_train,y_train,epochs = 10,batch_size = 1,validation_data = (x_test,y_test),callbacks=[ModelCheckpoint,ReduceLOR])\n",
        "model_history = model.fit(x_train,y_train, validation_data = (x_test,y_test),epochs=10,batch_size = 1)"
      ]
    },
    {
      "cell_type": "code",
      "execution_count": 49,
      "metadata": {},
      "outputs": [
        {
          "data": {
            "image/png": "[encoded data removed]",
            "text/plain": [
              "<Figure size 432x288 with 1 Axes>"
            ]
          },
          "metadata": {
            "needs_background": "light"
          },
          "output_type": "display_data"
        },
        {
          "data": {
            "image/png": "[encoded data removed]",
            "text/plain": [
              "<Figure size 432x288 with 1 Axes>"
            ]
          },
          "metadata": {
            "needs_background": "light"
          },
          "output_type": "display_data"
        }
      ],
      "source": [
        "def plotModelAccuracy(history, modelname):\n",
        "    plt.plot(history.history['accuracy'])\n",
        "    plt.plot(history.history['val_accuracy'])\n",
        "\n",
        "    plt.title(modelname+' model accuracy')\n",
        "    plt.ylabel('accuracy')\n",
        "    plt.xlabel('epoch')\n",
        "    plt.legend(['train','test'], loc='upper left')\n",
        "    plt.show()\n",
        "\n",
        "    plt.plot(history.history['loss'])\n",
        "    plt.plot(history.history['val_loss'])\n",
        "\n",
        "    plt.title(modelname+' model loss')\n",
        "    plt.ylabel('loss')\n",
        "    plt.xlabel('epoch')\n",
        "    plt.legend(['train','test'], loc='upper left')\n",
        "    plt.show()\n",
        "\n",
        "plotModelAccuracy(model_history, 'Resnet_50')"
      ]
    },
    {
      "cell_type": "code",
      "execution_count": 50,
      "metadata": {
        "id": "Blmo4uLNCW9D"
      },
      "outputs": [],
      "source": [
        "# encoder.classes_[np.argmax(pred)]\n",
        "# encoder.classes_[np.argmax(y_train[300][0][0])]\n",
        "\n",
        "# import os\n",
        "# import tensorflow as tf\n",
        "# import pandas as pd\n",
        "# import numpy as np\n",
        "# from sklearn.model_selection import train_test_split\n",
        "# from sklearn.preprocessing import LabelEncoder\n",
        "# from sklearn.utils import shuffle\n",
        "# import cv2\n",
        "# import matplotlib.pyplot as plt\n",
        "# from tensorflow.keras.applications.mobilenet import preprocess_input\n",
        "\n",
        "# def predict(image):\n",
        "#     _model = create_model(True)\n",
        "#     _model.load_weights('pneu_1-0.733.h5')\n",
        "#     image = cv2.resize(image, (224,224))\n",
        "#     pred = _model.predict(np.array(image).reshape(1,224,224,3))\n",
        "#     lab = encoder.classes_[np.argmax(pred)]\n",
        "#     return(lab)\n",
        "\n",
        "# # image = cv2.imread('D:\\\\Omkar Project\\\\chest_xray\\\\train\\\\normal\\\\IM-0191-0001.jpeg', 1)\n",
        "# # predict(image)\n",
        "\n",
        "# # converter = tf.lite.TFLiteConverter.from_keras_model(_model) # path to the SavedModel directory\n",
        "# # tflite_model = converter.convert()\n",
        "# # with open('model.tflite', 'wb') as f:\n",
        "# #     f.write(tflite_model)"
      ]
    }
  ],
  "metadata": {
    "colab": {
      "name": "Pneumonia Detection.ipynb",
      "provenance": []
    },
    "kernelspec": {
      "display_name": "Python 3",
      "language": "python",
      "name": "python3"
    },
    "language_info": {
      "codemirror_mode": {
        "name": "ipython",
        "version": 3
      },
      "file_extension": ".py",
      "mimetype": "text/x-python",
      "name": "python",
      "nbconvert_exporter": "python",
      "pygments_lexer": "ipython3",
      "version": "3.9.7"
    }
  },
  "nbformat": 4,
  "nbformat_minor": 0
}
